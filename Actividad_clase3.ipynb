{
 "cells": [
  {
   "cell_type": "markdown",
   "metadata": {},
   "source": [
    "# Actividad Clase 3\n",
    "\n",
    "## Ejercicios de Manipulación de Datos\n",
    "\n",
    "### Datos Simples\n",
    "\n",
    "#### Lista de Nombres de Ciudades"
   ]
  },
  {
   "cell_type": "code",
   "execution_count": 6,
   "metadata": {},
   "outputs": [],
   "source": [
    "#Lista de Nombres de Ciudades\n",
    "ciudades = [\"Ushuaia\", \"Bariloche\", \"Córdoba\", \"Buenos Aires\", \"San Martin de los Andes\"]"
   ]
  },
  {
   "cell_type": "code",
   "execution_count": 2,
   "metadata": {},
   "outputs": [],
   "source": [
    "#Diccionario con información de empleados\n",
    "empleados = {\n",
    "    \"Saul\": {\"cargo\": \"Gerente\", \"salario\": 50000},\n",
    "    \"Ana\": {\"cargo\": \"Desarrollador\", \"salario\": 40000},\n",
    "    \"Rocio\": {\"cargo\": \"Diseñador\", \"salario\": 35000}\n",
    "}\n"
   ]
  },
  {
   "cell_type": "code",
   "execution_count": 11,
   "metadata": {},
   "outputs": [
    {
     "name": "stdout",
     "output_type": "stream",
     "text": [
      "Córdoba\n",
      "40000\n"
     ]
    }
   ],
   "source": [
    "# Acceder al tercer elemento de la lista de ciudades\n",
    "ciudad = ciudades[2]\n",
    "print(ciudad)\n",
    "\n",
    "# Acceder al salario del empleado 'Alejandro'\n",
    "salario_ana= empleados[\"Ana\"][\"salario\"]\n",
    "print(salario_ana)\n"
   ]
  },
  {
   "cell_type": "code",
   "execution_count": 4,
   "metadata": {},
   "outputs": [
    {
     "name": "stdout",
     "output_type": "stream",
     "text": [
      "[1, 3, 5, 7, 9, 11]\n",
      "[1, 3, 5, 7, 9, 11, 13, 15]\n",
      "[1, 3, 4, 5, 7, 9, 11, 13, 15]\n",
      "[1, 3, 4, 5, 7, 9, 11, 13, 15]\n"
     ]
    }
   ],
   "source": [
    "#Manipulación de Listas y Metodos  \n",
    "\n",
    "#Lista de números\n",
    "numeros= [1,3,5,7,9]\n",
    "\n",
    "# Agregar un número al final de la lista\n",
    "numeros.append(11)\n",
    "print(numeros)\n",
    "\n",
    "# Agregar múltiples elementos a la lista\n",
    "numeros.extend([13,15])\n",
    "print(numeros)\n",
    "\n",
    "# Insertar un número en una posición específica\n",
    "numeros.insert(2,4)\n",
    "print(numeros)\n",
    "\n",
    "# Ordenar la lista de números de forma ascendente\n",
    "numeros.sort()\n",
    "print(numeros)"
   ]
  },
  {
   "cell_type": "code",
   "execution_count": 5,
   "metadata": {},
   "outputs": [
    {
     "name": "stdout",
     "output_type": "stream",
     "text": [
      "['Notebook', 'Teléfono', 'Tablet']\n",
      "[{'precio': 1000, 'stock': 50}, {'precio': 500, 'stock': 200}, {'precio': 300, 'stock': 150}]\n",
      "[('Notebook', {'precio': 1000, 'stock': 50}), ('Teléfono', {'precio': 500, 'stock': 200}), ('Tablet', {'precio': 300, 'stock': 150})]\n",
      "1000\n"
     ]
    }
   ],
   "source": [
    "#Manipulación de Diccionarios y Metodos\n",
    "\n",
    "#Diccionario con información de productos\n",
    "productos = {\n",
    "    \"Notebook\": {\"precio\": 1000, \"stock\": 50},\n",
    "    \"Teléfono\": {\"precio\": 500, \"stock\": 200},\n",
    "    \"Tablet\": {\"precio\": 300, \"stock\": 150}\n",
    "}\n",
    "\n",
    "# Obtener una lista de las llaves del diccionario\n",
    "llaves= productos.keys()\n",
    "print(list(llaves))\n",
    "\n",
    "# Obtener una lista de los valores del diccionario\n",
    "valores= productos.values()\n",
    "print(list(valores))\n",
    "\n",
    "# Obtener una lista de tuplas con pares clave-valor del diccionario\n",
    "items= productos.items()\n",
    "print(list(items))\n",
    "\n",
    "# Obtener el precio de un producto específico\n",
    "precio_notebook= productos.get(\"Notebook\", {}).get(\"precio\", \"Producto no encontrado\")\n",
    "print(precio_notebook)\n"
   ]
  },
  {
   "cell_type": "markdown",
   "metadata": {},
   "source": [
    "### Datos Complejos"
   ]
  },
  {
   "cell_type": "code",
   "execution_count": 8,
   "metadata": {},
   "outputs": [],
   "source": [
    "#Lista de Diccionarios Representando información de Libros\n",
    "libros = [\n",
    "    {\"titulo\": \"El Tunel\", \"autor\": \"Ernesto Sábato\", \"anio\": 1948},\n",
    "    {\"titulo\": \"Cien Años de Soledad\", \"autor\": \"Gabriel García Márquez\", \"anio\": 1967},\n",
    "    {\"titulo\": \"Don Quijote\", \"autor\": \"Miguel de Cervantes\", \"anio\": 1605}\n",
    "]\n"
   ]
  },
  {
   "cell_type": "code",
   "execution_count": 9,
   "metadata": {},
   "outputs": [],
   "source": [
    "#Diccionario con Listas como Valores\n",
    "estudiantes_materias = {\n",
    "    \"Juan\": [\"Matemáticas\", \"Historia\", \"Biología\"],\n",
    "    \"Ana\": [\"Literatura\", \"Arte\", \"Química\"],\n",
    "    \"Luis\": [\"Física\", \"Educación Física\", \"Música\"]\n",
    "}"
   ]
  },
  {
   "cell_type": "code",
   "execution_count": 10,
   "metadata": {},
   "outputs": [
    {
     "name": "stdout",
     "output_type": "stream",
     "text": [
      "['Matemáticas', 'Geografía', 'Biología']\n",
      "{'titulo': 'Cien Años de Soledad', 'autor': 'Gabriel G. Márquez', 'anio': 1967}\n"
     ]
    }
   ],
   "source": [
    "#Modificación de un Valor de una lista dentro de un Diccionario o Viceversa\n",
    "\n",
    "# Modificar una materia de Juan\n",
    "estudiantes_materias[\"Juan\"][1] = \"Geografía\"\n",
    "print(estudiantes_materias[\"Juan\"])\n",
    "\n",
    "# Modificar el autor del segundo libro\n",
    "libros[1][\"autor\"] = \"Gabriel G. Márquez\"\n",
    "print(libros[1])\n"
   ]
  }
 ],
 "metadata": {
  "kernelspec": {
   "display_name": "Python 3",
   "language": "python",
   "name": "python3"
  },
  "language_info": {
   "codemirror_mode": {
    "name": "ipython",
    "version": 3
   },
   "file_extension": ".py",
   "mimetype": "text/x-python",
   "name": "python",
   "nbconvert_exporter": "python",
   "pygments_lexer": "ipython3",
   "version": "3.11.5"
  }
 },
 "nbformat": 4,
 "nbformat_minor": 2
}
